{
 "cells": [
  {
   "attachments": {},
   "cell_type": "markdown",
   "metadata": {},
   "source": [
    "Let's now work on the model to try and predict the damage level of each building. Let's start by importing the necessary libraries and the dataset containing the one-hot signatures created in the previous notebook."
   ]
  },
  {
   "cell_type": "code",
   "execution_count": 2,
   "metadata": {},
   "outputs": [],
   "source": [
    "import torch\n",
    "import pandas as pd\n",
    "import numpy as np\n",
    "import pickle\n",
    "\n",
    "from IPython.display import clear_output\n",
    "\n",
    "DEVICE = torch.device(\"cuda:0\" if torch.cuda.is_available() else \"cpu\")"
   ]
  },
  {
   "cell_type": "code",
   "execution_count": 3,
   "metadata": {},
   "outputs": [
    {
     "data": {
      "text/html": [
       "<div>\n",
       "<style scoped>\n",
       "    .dataframe tbody tr th:only-of-type {\n",
       "        vertical-align: middle;\n",
       "    }\n",
       "\n",
       "    .dataframe tbody tr th {\n",
       "        vertical-align: top;\n",
       "    }\n",
       "\n",
       "    .dataframe thead th {\n",
       "        text-align: right;\n",
       "    }\n",
       "</style>\n",
       "<table border=\"1\" class=\"dataframe\">\n",
       "  <thead>\n",
       "    <tr style=\"text-align: right;\">\n",
       "      <th></th>\n",
       "      <th>x</th>\n",
       "      <th>y</th>\n",
       "    </tr>\n",
       "  </thead>\n",
       "  <tbody>\n",
       "    <tr>\n",
       "      <th>0</th>\n",
       "      <td>[-0.8674214516922528, 0.5968959280707078, 1, 0...</td>\n",
       "      <td>[1, 0, 0, 0]</td>\n",
       "    </tr>\n",
       "    <tr>\n",
       "      <th>1</th>\n",
       "      <td>[-0.664418864464821, 0.4405339408980041, 1, 0,...</td>\n",
       "      <td>[1, 0, 0, 0]</td>\n",
       "    </tr>\n",
       "    <tr>\n",
       "      <th>2</th>\n",
       "      <td>[-0.21363849853229364, 0.19104651928789274, 0,...</td>\n",
       "      <td>[1, 0, 0, 0]</td>\n",
       "    </tr>\n",
       "    <tr>\n",
       "      <th>3</th>\n",
       "      <td>[-0.21115149773491346, 0.1691897795630536, 0, ...</td>\n",
       "      <td>[1, 0, 0, 0]</td>\n",
       "    </tr>\n",
       "    <tr>\n",
       "      <th>4</th>\n",
       "      <td>[-1.4160536746440862, 1.0894816994400685, 1, 0...</td>\n",
       "      <td>[0, 1, 0, 0]</td>\n",
       "    </tr>\n",
       "  </tbody>\n",
       "</table>\n",
       "</div>"
      ],
      "text/plain": [
       "                                                   x             y\n",
       "0  [-0.8674214516922528, 0.5968959280707078, 1, 0...  [1, 0, 0, 0]\n",
       "1  [-0.664418864464821, 0.4405339408980041, 1, 0,...  [1, 0, 0, 0]\n",
       "2  [-0.21363849853229364, 0.19104651928789274, 0,...  [1, 0, 0, 0]\n",
       "3  [-0.21115149773491346, 0.1691897795630536, 0, ...  [1, 0, 0, 0]\n",
       "4  [-1.4160536746440862, 1.0894816994400685, 1, 0...  [0, 1, 0, 0]"
      ]
     },
     "execution_count": 3,
     "metadata": {},
     "output_type": "execute_result"
    }
   ],
   "source": [
    "# dataframe = pd.read_csv('signature_dataframe.csv')\n",
    "dataframe = pd.read_pickle('signature_condensed_dataframe.pkl')\n",
    "dataframe.head()"
   ]
  },
  {
   "attachments": {},
   "cell_type": "markdown",
   "metadata": {},
   "source": [
    "Let's now define the model as a simple fully connected neural network. We write the class so that the hidden layers size and depth of the model can be easily modified."
   ]
  },
  {
   "cell_type": "code",
   "execution_count": 4,
   "metadata": {},
   "outputs": [],
   "source": [
    "import torch\n",
    "import torch.nn as nn\n",
    "import torch.nn.functional as F\n",
    "\n",
    "class FullyConnectedNN(nn.Module):\n",
    "    def __init__(self, input_len, output_len, hidden_dim, depth):\n",
    "        super(FullyConnectedNN, self).__init__()\n",
    "        self.input_len = input_len\n",
    "        self.output_len = output_len\n",
    "        self.depth = depth\n",
    "        self.hidden_dim = hidden_dim\n",
    "        self.fc_layers = nn.Sequential()\n",
    "        \n",
    "        \n",
    "        for i in range(depth):\n",
    "            in_features = self.input_len if i == 0 else self.hidden_dim\n",
    "            self.fc_layers.add_module(f\"fc{i}\", nn.Linear(in_features, self.hidden_dim))\n",
    "            self.fc_layers.add_module(f\"relu{i}\", nn.ReLU())\n",
    "        \n",
    "        self.classifier = nn.Sequential(nn.Linear(self.hidden_dim, self.output_len), nn.Softmax(dim=1))\n",
    "        self.to(DEVICE)\n",
    "        # print number of parameters\n",
    "        print(f\"Number of parameters: {sum(p.numel() for p in self.parameters() if p.requires_grad)}\")\n",
    "        \n",
    "    def forward(self, x):\n",
    "        x = self.fc_layers(x.view(-1, self.input_len))\n",
    "        x = self.classifier(x)\n",
    "        return x\n"
   ]
  },
  {
   "attachments": {},
   "cell_type": "markdown",
   "metadata": {},
   "source": [
    "Next we define a CustomDataset class that will be used to load the data in batches. This takes the pandas dataframe as input and returns the one-hot signatures and damage levels as tensors.\n",
    "This class is necessary in order to use the PyTorch DataLoader class."
   ]
  },
  {
   "cell_type": "code",
   "execution_count": 5,
   "metadata": {},
   "outputs": [],
   "source": [
    "class CustomDataset(torch.utils.data.Dataset):\n",
    "    def __init__(self, dataframe):\n",
    "        self.dataframe = dataframe\n",
    "        \n",
    "    def __len__(self):\n",
    "        return len(self.dataframe)\n",
    "    \n",
    "    def __getitem__(self, idx):\n",
    "        # Get the label for the current sample\n",
    "        label = torch.Tensor(self.dataframe['y'].iloc[idx]).to(DEVICE)\n",
    "        \n",
    "        # Get the input for the current sample\n",
    "        input = torch.Tensor(self.dataframe['x'].iloc[idx]).to(DEVICE)\n",
    "        \n",
    "        return input, label\n",
    "    \n",
    "    def train_test_split(self, train_size=0.8):\n",
    "        train_size = int(train_size * len(self))\n",
    "        test_size = len(self) - train_size\n",
    "        return torch.utils.data.random_split(self, [train_size, test_size])\n",
    "\n",
    "\n",
    "\n"
   ]
  },
  {
   "attachments": {},
   "cell_type": "markdown",
   "metadata": {},
   "source": [
    "We now split the data into training and testing sets. We use 80% of the data for training and 20% for testing.\n",
    "We also define the data loaders for the training and testing sets."
   ]
  },
  {
   "cell_type": "code",
   "execution_count": 6,
   "metadata": {},
   "outputs": [],
   "source": [
    "dataset = CustomDataset(dataframe)\n",
    "train_dataset, test_dataset = dataset.train_test_split()\n",
    "\n",
    "train_loader = torch.utils.data.DataLoader(train_dataset, batch_size=10000, shuffle=True)\n",
    "test_loader = torch.utils.data.DataLoader(test_dataset, batch_size=10000, shuffle=True)"
   ]
  },
  {
   "attachments": {},
   "cell_type": "markdown",
   "metadata": {},
   "source": [
    "Now let's calculate a list of weights to be used in the loss function to account for the class imbalance so that the model does not overfit to the majority class."
   ]
  },
  {
   "cell_type": "code",
   "execution_count": 7,
   "metadata": {},
   "outputs": [
    {
     "data": {
      "text/plain": [
       "tensor([2.5090e-05, 3.9078e-04, 4.1254e-04, 2.6688e-04], device='cuda:0')"
      ]
     },
     "execution_count": 7,
     "metadata": {},
     "output_type": "execute_result"
    }
   ],
   "source": [
    "# Get weights for each class for balancing loss function\n",
    "\n",
    "N_CLASSES = len(dataset[0][1])\n",
    "# get support of each class in dataframe\n",
    "scalar_df = dataframe['y'].apply(lambda x: np.argmax(x))\n",
    "weights = scalar_df.value_counts()\n",
    "\n",
    "# sort weights by key\n",
    "weights = weights.sort_index()\n",
    "weights = weights.to_numpy()\n",
    "weights = torch.Tensor(weights).to(DEVICE)\n",
    "\n",
    "ALPHA = torch.ones(N_CLASSES).to(DEVICE)/weights\n",
    "\n",
    "\n",
    "ALPHA"
   ]
  },
  {
   "attachments": {},
   "cell_type": "markdown",
   "metadata": {},
   "source": [
    "We also clamp these weight so that the model does not overfit to the minority classes."
   ]
  },
  {
   "cell_type": "code",
   "execution_count": 8,
   "metadata": {},
   "outputs": [
    {
     "data": {
      "text/plain": [
       "tensor([0.0229, 0.3568, 0.3767, 0.2437], device='cuda:0')"
      ]
     },
     "execution_count": 8,
     "metadata": {},
     "output_type": "execute_result"
    }
   ],
   "source": [
    "# clamp alpha to avoid exessive weight on rare classes\n",
    "ALPHA = ALPHA.clamp(min(ALPHA).item(), max(ALPHA).item()) # multiply by 0.x to avoid overfitting\n",
    "# normalize alpha\n",
    "ALPHA = ALPHA/ALPHA.sum()\n",
    "ALPHA"
   ]
  },
  {
   "attachments": {},
   "cell_type": "markdown",
   "metadata": {},
   "source": [
    "For the loss function we use a modified version of a Focal Loss that allows to give weights to the different classes a priori. This is necessary because the dataset is highly imbalanced."
   ]
  },
  {
   "cell_type": "code",
   "execution_count": 9,
   "metadata": {},
   "outputs": [],
   "source": [
    "class FocalLoss(nn.Module):\n",
    "    def __init__(self, alpha=1, gamma=0.05, logits=True, reduction='elementwise_mean'):\n",
    "        super(FocalLoss, self).__init__()\n",
    "        self.alpha = alpha\n",
    "        self.gamma = gamma\n",
    "        self.logits = logits\n",
    "        self.reduction = reduction\n",
    "\n",
    "    def forward(self, inputs, targets):\n",
    "        if self.logits:\n",
    "            BCE_loss = F.binary_cross_entropy_with_logits(inputs, targets, reduction='none')\n",
    "        else:\n",
    "            BCE_loss = F.binary_cross_entropy(inputs, targets, reduction='none')\n",
    "            \n",
    "        \n",
    "        \n",
    "        pt = torch.exp(-BCE_loss)\n",
    "        F_loss = self.alpha * (1-pt)**self.gamma * BCE_loss\n",
    "\n",
    "        if self.reduction == 'elementwise_mean':\n",
    "            return torch.mean(F_loss)\n",
    "        elif self.reduction == 'sum':\n",
    "            return torch.sum(F_loss)\n",
    "        else: \n",
    "            return F_loss\n",
    "        \n",
    "        \n",
    "class FocalLossWithClassBalancing(nn.Module):\n",
    "    def __init__(self, alpha=ALPHA, gamma=2, reduction='elementwise_mean'): # <----------------------------- alpha should be a list/tensor of length N_CLASSES\n",
    "        super(FocalLossWithClassBalancing, self).__init__()\n",
    "        self.gamma = gamma\n",
    "        self.reduction = reduction\n",
    "        if alpha is None:\n",
    "            self.alpha = torch.ones(N_CLASSES, dtype=torch.float32).to(DEVICE)    \n",
    "        else:\n",
    "            self.alpha = torch.tensor(alpha, dtype=torch.float32).to(DEVICE)\n",
    "            \n",
    "    def forward(self, inputs, targets, alpha=None):\n",
    "        if alpha != None:\n",
    "            self.alpha = torch.tensor(alpha, dtype=torch.float32).to(DEVICE)        \n",
    "        \n",
    "        BCE_loss = torch.clamp(targets * inputs, 0.000001, 1)\n",
    "\n",
    "        F_loss = -(self.alpha.repeat(targets.shape[0], 1) * (1-BCE_loss)**self.gamma * BCE_loss.log())\n",
    "        if self.reduction == 'elementwise_mean':\n",
    "            return torch.mean(F_loss)\n",
    "        elif self.reduction == 'sum':\n",
    "            return torch.sum(F_loss)\n",
    "        else:\n",
    "            return F_loss\n",
    "        \n",
    "class BalancedBCELoss(nn.Module):\n",
    "    def __init__(self, alpha=ALPHA, reduction='elementwise_mean'):\n",
    "        super(BalancedBCELoss, self).__init__()\n",
    "        self.reduction = reduction\n",
    "        if alpha is None:\n",
    "            self.alpha = torch.ones(N_CLASSES, dtype=torch.float32).to(DEVICE)    \n",
    "        else:\n",
    "            self.alpha = torch.tensor(alpha, dtype=torch.float32).to(DEVICE)\n",
    "            \n",
    "    def forward(self, inputs, targets, alpha=None):\n",
    "        if alpha != None:\n",
    "            self.alpha = torch.tensor(alpha, dtype=torch.float32).to(DEVICE)        \n",
    "        \n",
    "        BCE_loss = torch.clamp(targets * inputs, 0.000001, 1)\n",
    "\n",
    "        F_loss = -(self.alpha.repeat(targets.shape[0], 1) * BCE_loss.log())\n",
    "        if self.reduction == 'elementwise_mean':\n",
    "            return torch.mean(F_loss)\n",
    "        elif self.reduction == 'sum':\n",
    "            return torch.sum(F_loss)\n",
    "        else:\n",
    "            return F_loss"
   ]
  },
  {
   "attachments": {},
   "cell_type": "markdown",
   "metadata": {},
   "source": [
    "And all that is left to do is to define the training loop and the testing loop. We make use of sklearn's metrics to calculate the accuracy, precision, recall and F1 score."
   ]
  },
  {
   "cell_type": "code",
   "execution_count": 17,
   "metadata": {},
   "outputs": [],
   "source": [
    "import torch.optim as optim\n",
    "import matplotlib.pyplot as plt\n",
    "from tqdm import tqdm\n",
    "\n",
    "\n",
    "\n",
    "from sklearn.metrics import classification_report\n",
    "\n",
    "def train(model, train_dataloader, test_dataloader, loss_fn, optimizer, num_epochs, log_interval=10):\n",
    "    model.to(DEVICE)\n",
    "    train_losses = []\n",
    "    test_losses = []\n",
    "    test_scores = []\n",
    "\n",
    "    for epoch in tqdm(range(num_epochs)):\n",
    "        running_loss = 0.0\n",
    "\n",
    "        model.train()\n",
    "        for i, data in enumerate(train_dataloader, 0):\n",
    "            inputs, labels = data\n",
    "            inputs, labels = inputs.to(DEVICE), labels.to(DEVICE)\n",
    "\n",
    "            optimizer.zero_grad()\n",
    "\n",
    "            outputs = model(inputs)\n",
    "            loss = loss_fn(outputs, labels)\n",
    "            loss.backward()\n",
    "            optimizer.step()\n",
    "\n",
    "            running_loss += loss.item()\n",
    "\n",
    "        train_loss = running_loss / len(train_dataloader)\n",
    "        train_losses.append(train_loss)\n",
    "\n",
    "        model.eval()\n",
    "        with torch.no_grad():\n",
    "            test_loss = 0\n",
    "            y_true = []\n",
    "            y_pred = []\n",
    "            for data in test_dataloader:\n",
    "                inputs, labels = data\n",
    "                \n",
    "                inputs, labels = inputs.to(DEVICE), labels.to(DEVICE)\n",
    "                outputs = model(inputs)\n",
    "                loss = loss_fn(outputs, labels)\n",
    "                test_loss += loss.item()\n",
    "                \n",
    "                labels = torch.argmax(labels, dim=1).view(-1, 1)\n",
    "                predicted = torch.argmax(outputs.data, 1).view(-1, 1)\n",
    "                y_true.extend(labels.cpu().numpy().tolist())\n",
    "                y_pred.extend(predicted.cpu().numpy().tolist())\n",
    "\n",
    "        test_loss /= len(test_dataloader)\n",
    "        test_losses.append(test_loss)\n",
    "        test_score = classification_report(y_true, y_pred, zero_division=0, output_dict=False)\n",
    "        \n",
    "        test_scores.append(classification_report(y_true, y_pred, zero_division=0, output_dict=True))\n",
    "\n",
    "        if (epoch + 1) % log_interval == 0:\n",
    "            clear_output(wait=True)\n",
    "            \n",
    "            fig, ax = plt.subplots()\n",
    "            ax.plot(train_losses, label='Training Loss')\n",
    "            ax.set_xlabel('Epoch')\n",
    "            ax.set_ylabel('Loss')\n",
    "            ax.legend()\n",
    "\n",
    "            fig, ax = plt.subplots()\n",
    "            ax.plot(test_losses, label='Testing Loss')\n",
    "            ax.set_xlabel('Epoch')\n",
    "            ax.set_ylabel('Loss')\n",
    "            ax.legend()\n",
    "            \n",
    "            # plot average f1 score\n",
    "            fig, ax = plt.subplots()\n",
    "            ax.plot([score['macro avg']['f1-score'] for score in test_scores], label='Testing F1 Score Macro Avg')\n",
    "            ax.set_xlabel('Epoch')\n",
    "            ax.set_ylabel('F1 Score')\n",
    "            ax.legend()\n",
    "            \n",
    "            # plot average precision score\n",
    "            fig, ax = plt.subplots()\n",
    "            ax.plot([score['macro avg']['precision'] for score in test_scores], label='Testing Precision Score Macro Avg')\n",
    "            ax.set_xlabel('Epoch')\n",
    "            ax.set_ylabel('Precision Score')\n",
    "            ax.legend()\n",
    "            \n",
    "            # plot average recall score\n",
    "            fig, ax = plt.subplots()\n",
    "            ax.plot([score['macro avg']['recall'] for score in test_scores], label='Testing Recall Score Macro Avg')\n",
    "            ax.set_xlabel('Epoch')\n",
    "            ax.set_ylabel('Recall Score')\n",
    "            ax.legend()\n",
    "            \n",
    "            # plot f1 score for each class\n",
    "            fig, ax = plt.subplots()\n",
    "            for i in range(N_CLASSES):\n",
    "                ax.plot([score[str(i)]['f1-score'] for score in test_scores], label=f'Class {i}')\n",
    "            ax.set_xlabel('Epoch')\n",
    "            ax.set_ylabel('F1 Score')\n",
    "            ax.legend()\n",
    "\n",
    "            plt.show()\n",
    "        \n",
    "        print(f\"Epoch {epoch + 1}/{num_epochs}: Training Loss: {train_loss:.4f} Test Loss: {test_loss:.4f} \\nTest Score:\\n {test_score} \")\n",
    "\n"
   ]
  },
  {
   "attachments": {},
   "cell_type": "markdown",
   "metadata": {},
   "source": [
    "In this cell we either define a new model or load a previously trained one."
   ]
  },
  {
   "cell_type": "code",
   "execution_count": 18,
   "metadata": {},
   "outputs": [
    {
     "name": "stdout",
     "output_type": "stream",
     "text": [
      "Number of parameters: 3652\n"
     ]
    }
   ],
   "source": [
    "model = FullyConnectedNN(input_len=len(dataset[0][0]), output_len=len(dataset[0][1]), hidden_dim=16, depth=10)\n",
    "\n",
    "# model = pickle.load(open('model.pkl', 'rb'))"
   ]
  },
  {
   "attachments": {},
   "cell_type": "markdown",
   "metadata": {},
   "source": [
    "Lastly, we train the model and save it."
   ]
  },
  {
   "cell_type": "code",
   "execution_count": 19,
   "metadata": {},
   "outputs": [
    {
     "data": {
      "image/png": "[encoded data removed]",
      "text/plain": [
       "<Figure size 432x288 with 1 Axes>"
      ]
     },
     "metadata": {
      "needs_background": "light"
     },
     "output_type": "display_data"
    },
    {
     "data": {
      "image/png": "[encoded data removed]",
      "text/plain": [
       "<Figure size 432x288 with 1 Axes>"
      ]
     },
     "metadata": {
      "needs_background": "light"
     },
     "output_type": "display_data"
    },
    {
     "data": {
      "image/png": "[encoded data removed]",
      "text/plain": [
       "<Figure size 432x288 with 1 Axes>"
      ]
     },
     "metadata": {
      "needs_background": "light"
     },
     "output_type": "display_data"
    },
    {
     "data": {
      "image/png": "[encoded data removed]",
      "text/plain": [
       "<Figure size 432x288 with 1 Axes>"
      ]
     },
     "metadata": {
      "needs_background": "light"
     },
     "output_type": "display_data"
    },
    {
     "data": {
      "image/png": "[encoded data removed]",
      "text/plain": [
       "<Figure size 432x288 with 1 Axes>"
      ]
     },
     "metadata": {
      "needs_background": "light"
     },
     "output_type": "display_data"
    },
    {
     "data": {
      "image/png": "[encoded data removed]",
      "text/plain": [
       "<Figure size 432x288 with 1 Axes>"
      ]
     },
     "metadata": {
      "needs_background": "light"
     },
     "output_type": "display_data"
    },
    {
     "name": "stderr",
     "output_type": "stream",
     "text": [
      "  0%|          | 2/500 [00:27<1:55:22, 13.90s/it]"
     ]
    },
    {
     "name": "stdout",
     "output_type": "stream",
     "text": [
      "Epoch 2/500: Training Loss: 3.2215 Test Loss: 3.2165 \n",
      "Test Score:\n",
      "               precision    recall  f1-score   support\n",
      "\n",
      "           0       0.00      0.00      0.00      7947\n",
      "           1       0.00      0.00      0.00       520\n",
      "           2       0.00      0.00      0.00       534\n",
      "           3       0.07      1.00      0.14       717\n",
      "\n",
      "    accuracy                           0.07      9718\n",
      "   macro avg       0.02      0.25      0.03      9718\n",
      "weighted avg       0.01      0.07      0.01      9718\n",
      " \n"
     ]
    }
   ],
   "source": [
    "train(model, train_loader, test_loader, BalancedBCELoss(), optim.Adam(model.parameters(), lr=0.0002), num_epochs=500, log_interval=1)"
   ]
  },
  {
   "cell_type": "code",
   "execution_count": 20,
   "metadata": {},
   "outputs": [],
   "source": [
    "\n",
    "# save model\n",
    "pickle.dump(model, open('model_narrow_condensed.pkl', 'wb'))"
   ]
  },
  {
   "cell_type": "code",
   "execution_count": null,
   "metadata": {},
   "outputs": [],
   "source": []
  }
 ],
 "metadata": {
  "kernelspec": {
   "display_name": "MLGeneral",
   "language": "python",
   "name": "python3"
  },
  "language_info": {
   "codemirror_mode": {
    "name": "ipython",
    "version": 3
   },
   "file_extension": ".py",
   "mimetype": "text/x-python",
   "name": "python",
   "nbconvert_exporter": "python",
   "pygments_lexer": "ipython3",
   "version": "3.7.13"
  },
  "orig_nbformat": 4,
  "vscode": {
   "interpreter": {
    "hash": "dc4feb34fbcc6eb95a6ecc7e41e96251b1b92a4e35d88f755b29428c796b1ecd"
   }
  }
 },
 "nbformat": 4,
 "nbformat_minor": 2
}
