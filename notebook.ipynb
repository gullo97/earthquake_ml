{
 "cells": [
  {
   "attachments": {},
   "cell_type": "markdown",
   "metadata": {},
   "source": [
    "Let's now work on the model to try and predict the damage level of each building. Let's start by importing the necessary libraries and the dataset containing the one-hot signatures created in the previous notebook."
   ]
  },
  {
   "cell_type": "code",
   "execution_count": 49,
   "metadata": {},
   "outputs": [],
   "source": [
    "import torch\n",
    "import pandas as pd\n",
    "import numpy as np\n",
    "\n",
    "from IPython.display import clear_output\n",
    "\n",
    "DEVICE = torch.device(\"cuda:0\" if torch.cuda.is_available() else \"cpu\")"
   ]
  },
  {
   "cell_type": "code",
   "execution_count": 2,
   "metadata": {},
   "outputs": [
    {
     "data": {
      "text/html": [
       "<div>\n",
       "<style scoped>\n",
       "    .dataframe tbody tr th:only-of-type {\n",
       "        vertical-align: middle;\n",
       "    }\n",
       "\n",
       "    .dataframe tbody tr th {\n",
       "        vertical-align: top;\n",
       "    }\n",
       "\n",
       "    .dataframe thead th {\n",
       "        text-align: right;\n",
       "    }\n",
       "</style>\n",
       "<table border=\"1\" class=\"dataframe\">\n",
       "  <thead>\n",
       "    <tr style=\"text-align: right;\">\n",
       "      <th></th>\n",
       "      <th>x</th>\n",
       "      <th>y</th>\n",
       "    </tr>\n",
       "  </thead>\n",
       "  <tbody>\n",
       "    <tr>\n",
       "      <th>0</th>\n",
       "      <td>[-0.8674214516922528, 0.5968959280707078, 1, 0...</td>\n",
       "      <td>[1, 0, 0, 0, 0, 0, 0, 0, 0, 0, 0, 0, 0, 0, 0, ...</td>\n",
       "    </tr>\n",
       "    <tr>\n",
       "      <th>1</th>\n",
       "      <td>[-0.7894931324262333, 1.6023856802166563, 0, 1...</td>\n",
       "      <td>[1, 0, 0, 0, 0, 0, 0, 0, 0, 0, 0, 0, 0, 0, 0, ...</td>\n",
       "    </tr>\n",
       "    <tr>\n",
       "      <th>2</th>\n",
       "      <td>[-0.664418864464821, 0.4405339408980041, 1, 0,...</td>\n",
       "      <td>[1, 0, 0, 0, 0, 0, 0, 0, 0, 0, 0, 0, 0, 0, 0, ...</td>\n",
       "    </tr>\n",
       "    <tr>\n",
       "      <th>3</th>\n",
       "      <td>[-0.21363849853229364, 0.19104651928789274, 0,...</td>\n",
       "      <td>[1, 0, 0, 0, 0, 0, 0, 0, 0, 0, 0, 0, 0, 0, 0, ...</td>\n",
       "    </tr>\n",
       "    <tr>\n",
       "      <th>4</th>\n",
       "      <td>[-0.21115149773491346, 0.1691897795630536, 0, ...</td>\n",
       "      <td>[1, 0, 0, 0, 0, 0, 0, 0, 0, 0, 0, 0, 0, 0, 0, ...</td>\n",
       "    </tr>\n",
       "  </tbody>\n",
       "</table>\n",
       "</div>"
      ],
      "text/plain": [
       "                                                   x  \\\n",
       "0  [-0.8674214516922528, 0.5968959280707078, 1, 0...   \n",
       "1  [-0.7894931324262333, 1.6023856802166563, 0, 1...   \n",
       "2  [-0.664418864464821, 0.4405339408980041, 1, 0,...   \n",
       "3  [-0.21363849853229364, 0.19104651928789274, 0,...   \n",
       "4  [-0.21115149773491346, 0.1691897795630536, 0, ...   \n",
       "\n",
       "                                                   y  \n",
       "0  [1, 0, 0, 0, 0, 0, 0, 0, 0, 0, 0, 0, 0, 0, 0, ...  \n",
       "1  [1, 0, 0, 0, 0, 0, 0, 0, 0, 0, 0, 0, 0, 0, 0, ...  \n",
       "2  [1, 0, 0, 0, 0, 0, 0, 0, 0, 0, 0, 0, 0, 0, 0, ...  \n",
       "3  [1, 0, 0, 0, 0, 0, 0, 0, 0, 0, 0, 0, 0, 0, 0, ...  \n",
       "4  [1, 0, 0, 0, 0, 0, 0, 0, 0, 0, 0, 0, 0, 0, 0, ...  "
      ]
     },
     "execution_count": 2,
     "metadata": {},
     "output_type": "execute_result"
    }
   ],
   "source": [
    "# dataframe = pd.read_csv('signature_dataframe.csv')\n",
    "dataframe = pd.read_pickle('signature_dataframe.pkl')\n",
    "dataframe.head()"
   ]
  },
  {
   "cell_type": "code",
   "execution_count": 37,
   "metadata": {},
   "outputs": [
    {
     "data": {
      "text/plain": [
       "0     54693\n",
       "4      4025\n",
       "9      1549\n",
       "1      1238\n",
       "2       954\n",
       "6       776\n",
       "7       698\n",
       "8       550\n",
       "3       543\n",
       "10      285\n",
       "11       44\n",
       "14       26\n",
       "5        19\n",
       "23       18\n",
       "19       16\n",
       "16       16\n",
       "18       15\n",
       "13       11\n",
       "17        8\n",
       "15        8\n",
       "21        8\n",
       "12        8\n",
       "24        7\n",
       "20        4\n",
       "22        3\n",
       "25        1\n",
       "Name: y, dtype: int64"
      ]
     },
     "execution_count": 37,
     "metadata": {},
     "output_type": "execute_result"
    }
   ],
   "source": []
  },
  {
   "cell_type": "code",
   "execution_count": 72,
   "metadata": {},
   "outputs": [],
   "source": [
    "import torch\n",
    "import torch.nn as nn\n",
    "import torch.nn.functional as F\n",
    "\n",
    "class FullyConnectedNN(nn.Module):\n",
    "    def __init__(self, input_len, output_len, hidden_dim, depth):\n",
    "        super(FullyConnectedNN, self).__init__()\n",
    "        self.input_len = input_len\n",
    "        self.output_len = output_len\n",
    "        self.depth = depth\n",
    "        self.hidden_dim = hidden_dim\n",
    "        self.fc_layers = nn.Sequential()\n",
    "        \n",
    "        \n",
    "        for i in range(depth):\n",
    "            in_features = self.input_len if i == 0 else self.hidden_dim\n",
    "            self.fc_layers.add_module(f\"fc{i}\", nn.Linear(in_features, self.hidden_dim))\n",
    "            self.fc_layers.add_module(f\"relu{i}\", nn.ReLU())\n",
    "        \n",
    "        self.classifier = nn.Sequential(nn.Linear(self.hidden_dim, self.output_len), nn.Softmax(dim=1))\n",
    "        self.to(DEVICE)\n",
    "        # print number of parameters\n",
    "        print(f\"Number of parameters: {sum(p.numel() for p in self.parameters() if p.requires_grad)}\")\n",
    "        \n",
    "    def forward(self, x):\n",
    "        x = self.fc_layers(x.view(-1, self.input_len))\n",
    "        x = self.classifier(x)\n",
    "        return x\n"
   ]
  },
  {
   "cell_type": "code",
   "execution_count": 73,
   "metadata": {},
   "outputs": [
    {
     "data": {
      "text/plain": [
       "0    [1, 0, 0, 0, 0, 0, 0, 0, 0, 0, 0, 0, 0, 0, 0, ...\n",
       "1    [1, 0, 0, 0, 0, 0, 0, 0, 0, 0, 0, 0, 0, 0, 0, ...\n",
       "Name: y, dtype: object"
      ]
     },
     "execution_count": 73,
     "metadata": {},
     "output_type": "execute_result"
    }
   ],
   "source": [
    "dataframe['y'].iloc[[0,1]]"
   ]
  },
  {
   "cell_type": "code",
   "execution_count": 74,
   "metadata": {},
   "outputs": [],
   "source": [
    "class CustomDataset(torch.utils.data.Dataset):\n",
    "    def __init__(self, dataframe):\n",
    "        self.dataframe = dataframe\n",
    "        \n",
    "    def __len__(self):\n",
    "        return len(self.dataframe)\n",
    "    \n",
    "    def __getitem__(self, idx):\n",
    "        # Get the label for the current sample\n",
    "        label = torch.Tensor(self.dataframe['y'].iloc[idx]).to(DEVICE)\n",
    "        \n",
    "        # Get the input for the current sample\n",
    "        input = torch.Tensor(self.dataframe['x'].iloc[idx]).to(DEVICE)\n",
    "        \n",
    "        return input, label\n",
    "    def train_test_split(self, train_size=0.8):\n",
    "        train_size = int(train_size * len(self))\n",
    "        test_size = len(self) - train_size\n",
    "        return torch.utils.data.random_split(self, [train_size, test_size])\n",
    "\n",
    "\n",
    "\n"
   ]
  },
  {
   "cell_type": "code",
   "execution_count": 88,
   "metadata": {},
   "outputs": [],
   "source": [
    "dataset = CustomDataset(dataframe)\n",
    "train_dataset, test_dataset = dataset.train_test_split()\n",
    "\n",
    "train_loader = torch.utils.data.DataLoader(train_dataset, batch_size=3200, shuffle=True)\n",
    "test_loader = torch.utils.data.DataLoader(test_dataset, batch_size=3200, shuffle=True)"
   ]
  },
  {
   "cell_type": "code",
   "execution_count": 89,
   "metadata": {},
   "outputs": [
    {
     "data": {
      "text/plain": [
       "tensor([1.8284e-05, 8.0775e-04, 1.0482e-03, 1.8416e-03, 2.4845e-04, 5.2632e-02,\n",
       "        1.2887e-03, 1.4327e-03, 1.8182e-03, 6.4558e-04, 3.5088e-03, 2.2727e-02,\n",
       "        1.2500e-01, 9.0909e-02, 3.8462e-02, 1.2500e-01, 6.2500e-02, 1.2500e-01,\n",
       "        6.6667e-02, 6.2500e-02, 2.5000e-01, 1.2500e-01, 3.3333e-01, 5.5556e-02,\n",
       "        1.4286e-01, 1.0000e+00], device='cuda:0')"
      ]
     },
     "execution_count": 89,
     "metadata": {},
     "output_type": "execute_result"
    }
   ],
   "source": [
    "# Get weights for each class for loss function\n",
    "\n",
    "N_CLASSES = len(dataset[0][1])\n",
    "# get support of each class in dataframe\n",
    "scalar_df = dataframe['y'].apply(lambda x: np.argmax(x))\n",
    "weights = scalar_df.value_counts()\n",
    "# sort weights by key\n",
    "weights = weights.sort_index()\n",
    "weights = weights.to_numpy()\n",
    "weights = torch.Tensor(weights).to(DEVICE)\n",
    "\n",
    "ALPHA = torch.ones(N_CLASSES).to(DEVICE)/weights\n",
    "ALPHA"
   ]
  },
  {
   "cell_type": "code",
   "execution_count": 90,
   "metadata": {},
   "outputs": [],
   "source": [
    "class FocalLoss(nn.Module):\n",
    "    def __init__(self, alpha=1, gamma=0.05, logits=True, reduction='elementwise_mean'):\n",
    "        super(FocalLoss, self).__init__()\n",
    "        self.alpha = alpha\n",
    "        self.gamma = gamma\n",
    "        self.logits = logits\n",
    "        self.reduction = reduction\n",
    "\n",
    "    def forward(self, inputs, targets):\n",
    "        if self.logits:\n",
    "            BCE_loss = F.binary_cross_entropy_with_logits(inputs, targets, reduction='none')\n",
    "        else:\n",
    "            BCE_loss = F.binary_cross_entropy(inputs, targets, reduction='none')\n",
    "            \n",
    "        \n",
    "        \n",
    "        pt = torch.exp(-BCE_loss)\n",
    "        F_loss = self.alpha * (1-pt)**self.gamma * BCE_loss\n",
    "\n",
    "        if self.reduction == 'elementwise_mean':\n",
    "            return torch.mean(F_loss)\n",
    "        elif self.reduction == 'sum':\n",
    "            return torch.sum(F_loss)\n",
    "        else: \n",
    "            return F_loss\n",
    "        \n",
    "        \n",
    "# This needs fixing, alpha should be a list of length len(targets) ########################################\n",
    "class FocalLossWithClassBalancing(nn.Module):\n",
    "    def __init__(self, alpha=ALPHA, gamma=2, reduction='elementwise_mean'): # <----------------------------- alpha should be a list of length len(targets)\n",
    "        super(FocalLossWithClassBalancing, self).__init__()\n",
    "        self.gamma = gamma\n",
    "        self.reduction = reduction\n",
    "        if alpha is None:\n",
    "            self.alpha = torch.ones(N_CLASSES, dtype=torch.float32).to(DEVICE)    # <--------------------------------------- 25 is the number of classes\n",
    "        else:\n",
    "            self.alpha = torch.tensor(alpha, dtype=torch.float32).to(DEVICE)\n",
    "            \n",
    "    def forward(self, inputs, targets, alpha=None):\n",
    "        if alpha != None:\n",
    "            self.alpha = torch.tensor(alpha, dtype=torch.float32).to(DEVICE)        \n",
    "        \n",
    "        BCE_loss = torch.clamp(targets * inputs, 0.000001, 1)\n",
    "\n",
    "        F_loss = -(self.alpha.repeat(targets.shape[0], 1) * (1-BCE_loss)**self.gamma * BCE_loss.log())\n",
    "        if self.reduction == 'elementwise_mean':\n",
    "            return torch.mean(F_loss)\n",
    "        elif self.reduction == 'sum':\n",
    "            return torch.sum(F_loss)\n",
    "        else:\n",
    "            return F_loss"
   ]
  },
  {
   "cell_type": "code",
   "execution_count": 91,
   "metadata": {},
   "outputs": [],
   "source": [
    "import torch.optim as optim\n",
    "import matplotlib.pyplot as plt\n",
    "from tqdm import tqdm\n",
    "\n",
    "\n",
    "\n",
    "from sklearn.metrics import classification_report\n",
    "\n",
    "def train(model, train_dataloader, test_dataloader, loss_fn, optimizer, num_epochs, log_interval=10):\n",
    "    model.to(DEVICE)\n",
    "    train_losses = []\n",
    "    test_losses = []\n",
    "    test_scores = []\n",
    "\n",
    "    for epoch in tqdm(range(num_epochs)):\n",
    "        running_loss = 0.0\n",
    "\n",
    "        model.train()\n",
    "        for i, data in enumerate(train_dataloader, 0):\n",
    "            inputs, labels = data\n",
    "            inputs, labels = inputs.to(DEVICE), labels.to(DEVICE)\n",
    "\n",
    "            optimizer.zero_grad()\n",
    "\n",
    "            outputs = model(inputs)\n",
    "            loss = loss_fn(outputs, labels)\n",
    "            loss.backward()\n",
    "            optimizer.step()\n",
    "\n",
    "            running_loss += loss.item()\n",
    "\n",
    "        train_loss = running_loss / len(train_dataloader)\n",
    "        train_losses.append(train_loss)\n",
    "\n",
    "        model.eval()\n",
    "        with torch.no_grad():\n",
    "            test_loss = 0\n",
    "            y_true = []\n",
    "            y_pred = []\n",
    "            for data in test_dataloader:\n",
    "                inputs, labels = data\n",
    "                \n",
    "                inputs, labels = inputs.to(DEVICE), labels.to(DEVICE)\n",
    "                outputs = model(inputs)\n",
    "                loss = loss_fn(outputs, labels)\n",
    "                test_loss += loss.item()\n",
    "                \n",
    "                labels = torch.argmax(labels, dim=1).view(-1, 1)\n",
    "                predicted = torch.argmax(outputs.data, 1).view(-1, 1)\n",
    "                y_true.extend(labels.cpu().numpy().tolist())\n",
    "                y_pred.extend(predicted.cpu().numpy().tolist())\n",
    "\n",
    "        test_loss /= len(test_dataloader)\n",
    "        test_losses.append(test_loss)\n",
    "        test_score = classification_report(y_true, y_pred, zero_division=0, output_dict=False)\n",
    "        \n",
    "        test_scores.append(test_score)\n",
    "\n",
    "        if (epoch + 1) % log_interval == 0:\n",
    "            # clear output\n",
    "            clear_output(wait=True)\n",
    "            \n",
    "            fig, ax = plt.subplots()\n",
    "            ax.plot(train_losses, label='Training Loss')\n",
    "            ax.set_xlabel('Epoch')\n",
    "            ax.set_ylabel('Loss')\n",
    "            ax.legend()\n",
    "\n",
    "            fig, ax = plt.subplots()\n",
    "            ax.plot(test_losses, label='Testing Loss')\n",
    "            ax.set_xlabel('Epoch')\n",
    "            ax.set_ylabel('Loss')\n",
    "            ax.legend()\n",
    "\n",
    "            plt.show()\n",
    "        \n",
    "        print(f\"Epoch {epoch + 1}/{num_epochs}: Training Loss: {train_loss:.4f} Test Loss: {test_loss:.4f} Test Score:\\n {test_score} \")\n",
    "\n"
   ]
  },
  {
   "cell_type": "code",
   "execution_count": 92,
   "metadata": {},
   "outputs": [
    {
     "name": "stdout",
     "output_type": "stream",
     "text": [
      "Number of parameters: 302426\n"
     ]
    }
   ],
   "source": [
    "model = FullyConnectedNN(input_len=len(dataset[0][0]), output_len=len(dataset[0][1]), hidden_dim=200, depth=8)"
   ]
  },
  {
   "cell_type": "code",
   "execution_count": 93,
   "metadata": {},
   "outputs": [
    {
     "data": {
      "image/png": "[encoded data removed]",
      "text/plain": [
       "<Figure size 432x288 with 1 Axes>"
      ]
     },
     "metadata": {
      "needs_background": "light"
     },
     "output_type": "display_data"
    },
    {
     "data": {
      "image/png": "[encoded data removed]",
      "text/plain": [
       "<Figure size 432x288 with 1 Axes>"
      ]
     },
     "metadata": {
      "needs_background": "light"
     },
     "output_type": "display_data"
    },
    {
     "name": "stderr",
     "output_type": "stream",
     "text": [
      "  1%|          | 4/500 [01:11<2:28:28, 17.96s/it]"
     ]
    },
    {
     "name": "stdout",
     "output_type": "stream",
     "text": [
      "Epoch 4/500: Training Loss: 1.4296 Test Loss: 1.4296 Test Score:\n",
      "               precision    recall  f1-score   support\n",
      "\n",
      "           0       0.00      0.00      0.00     10881\n",
      "           1       0.00      0.00      0.00       239\n",
      "           2       0.00      0.00      0.00       188\n",
      "           3       0.00      0.00      0.00       105\n",
      "           4       0.00      0.00      0.00       811\n",
      "           5       0.00      1.00      0.00         2\n",
      "           6       0.00      0.00      0.00       176\n",
      "           7       0.00      0.00      0.00       156\n",
      "           8       0.00      0.00      0.00       112\n",
      "           9       0.00      0.00      0.00       330\n",
      "          10       0.00      0.00      0.00        58\n",
      "          11       0.00      0.00      0.00         7\n",
      "          13       0.00      0.00      0.00         5\n",
      "          14       0.00      0.00      0.00         9\n",
      "          15       0.00      0.00      0.00         1\n",
      "          16       0.00      0.00      0.00         4\n",
      "          17       0.00      0.00      0.00         2\n",
      "          18       0.00      0.00      0.00         3\n",
      "          19       0.00      0.00      0.00         5\n",
      "          20       0.00      0.00      0.00         1\n",
      "          21       0.00      0.00      0.00         1\n",
      "          23       0.00      0.00      0.00         7\n",
      "          24       0.00      0.00      0.00         2\n",
      "\n",
      "    accuracy                           0.00     13105\n",
      "   macro avg       0.00      0.04      0.00     13105\n",
      "weighted avg       0.00      0.00      0.00     13105\n",
      " \n"
     ]
    },
    {
     "name": "stderr",
     "output_type": "stream",
     "text": [
      "  1%|          | 5/500 [01:31<2:35:50, 18.89s/it]"
     ]
    },
    {
     "name": "stdout",
     "output_type": "stream",
     "text": [
      "Epoch 5/500: Training Loss: 1.4296 Test Loss: 1.4296 Test Score:\n",
      "               precision    recall  f1-score   support\n",
      "\n",
      "           0       0.00      0.00      0.00     10881\n",
      "           1       0.00      0.00      0.00       239\n",
      "           2       0.00      0.00      0.00       188\n",
      "           3       0.00      0.00      0.00       105\n",
      "           4       0.00      0.00      0.00       811\n",
      "           5       0.00      1.00      0.00         2\n",
      "           6       0.00      0.00      0.00       176\n",
      "           7       0.00      0.00      0.00       156\n",
      "           8       0.00      0.00      0.00       112\n",
      "           9       0.00      0.00      0.00       330\n",
      "          10       0.00      0.00      0.00        58\n",
      "          11       0.00      0.00      0.00         7\n",
      "          13       0.00      0.00      0.00         5\n",
      "          14       0.00      0.00      0.00         9\n",
      "          15       0.00      0.00      0.00         1\n",
      "          16       0.00      0.00      0.00         4\n",
      "          17       0.00      0.00      0.00         2\n",
      "          18       0.00      0.00      0.00         3\n",
      "          19       0.00      0.00      0.00         5\n",
      "          20       0.00      0.00      0.00         1\n",
      "          21       0.00      0.00      0.00         1\n",
      "          23       0.00      0.00      0.00         7\n",
      "          24       0.00      0.00      0.00         2\n",
      "\n",
      "    accuracy                           0.00     13105\n",
      "   macro avg       0.00      0.04      0.00     13105\n",
      "weighted avg       0.00      0.00      0.00     13105\n",
      " \n"
     ]
    }
   ],
   "source": [
    "train(model, train_loader, test_loader, FocalLossWithClassBalancing(), optim.Adam(model.parameters(), lr=0.001), num_epochs=500, log_interval=2)"
   ]
  },
  {
   "cell_type": "code",
   "execution_count": 25,
   "metadata": {},
   "outputs": [
    {
     "data": {
      "text/plain": [
       "[['', '', 'precision'],\n",
       " ['', 'recall', '', 'f1-score'],\n",
       " ['', '', '0'],\n",
       " ['', '0.84'],\n",
       " ['', '', '10957\\n'],\n",
       " ['', '', '1'],\n",
       " ['', '0.00'],\n",
       " ['', '243\\n'],\n",
       " ['', '', '2'],\n",
       " ['', '0.00'],\n",
       " ['', '217\\n'],\n",
       " ['', '', '3'],\n",
       " ['', '0.00'],\n",
       " ['', '107\\n'],\n",
       " ['', '', '4'],\n",
       " ['', '0.00'],\n",
       " ['', '790\\n'],\n",
       " ['', '', '5'],\n",
       " ['', '0.00'],\n",
       " ['', '', '6'],\n",
       " ['', '0.00'],\n",
       " ['', '160\\n'],\n",
       " ['', '', '7'],\n",
       " ['', '0.00'],\n",
       " ['', '145\\n'],\n",
       " ['', '', '8'],\n",
       " ['', '0.00'],\n",
       " ['', '110\\n'],\n",
       " ['', '', '9'],\n",
       " ['', '0.00'],\n",
       " ['', '296\\n'],\n",
       " ['', '10'],\n",
       " ['', '0.00'],\n",
       " ['', '', '40\\n'],\n",
       " ['', '11'],\n",
       " ['', '0.00'],\n",
       " ['', '12'],\n",
       " ['', '0.00'],\n",
       " ['', '13'],\n",
       " ['', '0.00'],\n",
       " ['', '14'],\n",
       " ['', '0.00'],\n",
       " ['', '15'],\n",
       " ['', '0.00'],\n",
       " ['', '16'],\n",
       " ['', '0.00'],\n",
       " ['', '17'],\n",
       " ['', '0.00'],\n",
       " ['', '18'],\n",
       " ['', '0.00'],\n",
       " ['', '19'],\n",
       " ['', '0.00'],\n",
       " ['', '20'],\n",
       " ['', '0.00'],\n",
       " ['', '21'],\n",
       " ['', '0.00'],\n",
       " ['', '22'],\n",
       " ['', '0.00'],\n",
       " ['', '23'],\n",
       " ['', '0.00'],\n",
       " ['', '24'],\n",
       " ['', '0.00'],\n",
       " ['', 'accuracy'],\n",
       " ['', '', '13105\\n'],\n",
       " ['macro', 'avg'],\n",
       " ['', '0.03'],\n",
       " ['', '', '13105\\nweighted', 'avg'],\n",
       " ['', '0.70'],\n",
       " ['', '', '13105\\n']]"
      ]
     },
     "execution_count": 25,
     "metadata": {},
     "output_type": "execute_result"
    }
   ],
   "source": [
    "supports"
   ]
  },
  {
   "cell_type": "code",
   "execution_count": 78,
   "metadata": {},
   "outputs": [],
   "source": [
    "import pickle\n",
    "# save model\n",
    "pickle.dump(model, open('model.pkl', 'wb'))"
   ]
  },
  {
   "cell_type": "code",
   "execution_count": null,
   "metadata": {},
   "outputs": [],
   "source": []
  }
 ],
 "metadata": {
  "kernelspec": {
   "display_name": "MLGeneral",
   "language": "python",
   "name": "python3"
  },
  "language_info": {
   "codemirror_mode": {
    "name": "ipython",
    "version": 3
   },
   "file_extension": ".py",
   "mimetype": "text/x-python",
   "name": "python",
   "nbconvert_exporter": "python",
   "pygments_lexer": "ipython3",
   "version": "3.7.13"
  },
  "orig_nbformat": 4,
  "vscode": {
   "interpreter": {
    "hash": "dc4feb34fbcc6eb95a6ecc7e41e96251b1b92a4e35d88f755b29428c796b1ecd"
   }
  }
 },
 "nbformat": 4,
 "nbformat_minor": 2
}
